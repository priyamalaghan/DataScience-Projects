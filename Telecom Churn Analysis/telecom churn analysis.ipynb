{
 "cells": [
  {
   "cell_type": "markdown",
   "id": "3a31840e",
   "metadata": {},
   "source": [
    "# Import packages"
   ]
  },
  {
   "cell_type": "code",
   "execution_count": null,
   "id": "e018c2b9",
   "metadata": {},
   "outputs": [],
   "source": [
    "import numpy as np\n",
    "import pandas as pd\n",
    "import matplotlib.pyplot as plt\n",
    "from PIL import  Image\n",
    "\n",
    "%matplotlib inline\n",
    "import seaborn as sns\n",
    "import itertools\n",
    "import warnings\n",
    "warnings.filterwarnings(\"ignore\")\n",
    "\n",
    "import io\n",
    "import plotly.offline as py\n",
    "py.init_notebook_mode(connected=True)\n",
    "import plotly.graph_objs as go\n",
    "import plotly.tools as tls\n",
    "import plotly.figure_factory as ff"
   ]
  },
  {
   "cell_type": "markdown",
   "id": "c8556e3b",
   "metadata": {},
   "source": [
    "# Data"
   ]
  },
  {
   "cell_type": "code",
   "execution_count": null,
   "id": "97bacc7a",
   "metadata": {},
   "outputs": [],
   "source": [
    "telcom = pd.read_csv('https://raw.githubusercontent.com/smitansp/MachineLearningUsingPython/master/TelecomChurn/telco.csv')\n",
    "telcom.head()"
   ]
  },
  {
   "cell_type": "code",
   "execution_count": null,
   "id": "c79c78f1",
   "metadata": {},
   "outputs": [],
   "source": [
    "telcom.iloc[0:100]"
   ]
  },
  {
   "cell_type": "code",
   "execution_count": null,
   "id": "ac170f15",
   "metadata": {
    "scrolled": true
   },
   "outputs": [],
   "source": [
    "print (\"\\nMissing values :  \", telcom.isna().sum())"
   ]
  },
  {
   "cell_type": "markdown",
   "id": "95b27415",
   "metadata": {},
   "source": [
    "# Data Overview"
   ]
  },
  {
   "cell_type": "code",
   "execution_count": null,
   "id": "2a988dde",
   "metadata": {
    "scrolled": true
   },
   "outputs": [],
   "source": [
    "print (\"Rows     : \" ,telcom.shape[0])\n",
    "print (\"Columns  : \" ,telcom.shape[1])\n",
    "print (\"\\nFeatures : \\n\" ,telcom.columns.tolist())\n",
    "print (\"\\nMissing values :  \", telcom.isnull().sum().values.sum())\n",
    "print (\"\\nUnique values :  \\n\",telcom.nunique())"
   ]
  },
  {
   "cell_type": "markdown",
   "id": "a4e003ab",
   "metadata": {},
   "source": [
    "# Data Manipulation"
   ]
  },
  {
   "cell_type": "markdown",
   "id": "c2720309",
   "metadata": {},
   "source": [
    "**Replacing spaces with null values in total charges column**"
   ]
  },
  {
   "cell_type": "code",
   "execution_count": null,
   "id": "230ebfe9",
   "metadata": {},
   "outputs": [],
   "source": [
    "telcom['TotalCharges'] = telcom[\"TotalCharges\"].replace(\" \",np.nan)"
   ]
  },
  {
   "cell_type": "markdown",
   "id": "647ad992",
   "metadata": {},
   "source": [
    "**Dropping null values from total charges column which contain .15% missing data**"
   ]
  },
  {
   "cell_type": "code",
   "execution_count": null,
   "id": "e4fe0d08",
   "metadata": {},
   "outputs": [],
   "source": [
    "telcom = telcom[telcom[\"TotalCharges\"].notnull()]\n",
    "telcom = telcom.reset_index()[telcom.columns]"
   ]
  },
  {
   "cell_type": "markdown",
   "id": "35222ab6",
   "metadata": {},
   "source": [
    "**Convert to float type**"
   ]
  },
  {
   "cell_type": "code",
   "execution_count": null,
   "id": "768bd9ff",
   "metadata": {},
   "outputs": [],
   "source": [
    "telcom[\"TotalCharges\"] = telcom[\"TotalCharges\"].astype(float)"
   ]
  },
  {
   "cell_type": "markdown",
   "id": "5a3ab3f0",
   "metadata": {},
   "source": [
    "**Replace 'No internet service' to No for the following columns**"
   ]
  },
  {
   "cell_type": "code",
   "execution_count": null,
   "id": "8906c31f",
   "metadata": {},
   "outputs": [],
   "source": [
    "replace_cols = [ 'OnlineSecurity', 'OnlineBackup', 'DeviceProtection',\n",
    "                'TechSupport','StreamingTV', 'StreamingMovies']\n",
    "for i in replace_cols : \n",
    "    telcom[i]  = telcom[i].replace({'No internet service' : 'No'})"
   ]
  },
  {
   "cell_type": "markdown",
   "id": "cb9d61f4",
   "metadata": {},
   "source": [
    "**Replace values**"
   ]
  },
  {
   "cell_type": "code",
   "execution_count": null,
   "id": "045bc206",
   "metadata": {},
   "outputs": [],
   "source": [
    "telcom[\"SeniorCitizen\"] = telcom[\"SeniorCitizen\"].replace({1:\"Yes\",0:\"No\"})"
   ]
  },
  {
   "cell_type": "markdown",
   "id": "c93e3aa5",
   "metadata": {},
   "source": [
    "**Tenure to categorical column**"
   ]
  },
  {
   "cell_type": "code",
   "execution_count": null,
   "id": "0708bbe1",
   "metadata": {},
   "outputs": [],
   "source": [
    "def tenure_lab(telcom) :\n",
    "    if telcom[\"tenure\"] <= 12 :\n",
    "        return \"Tenure_0-12\"\n",
    "    elif (telcom[\"tenure\"] > 12) & (telcom[\"tenure\"] <= 24 ):\n",
    "        return \"Tenure_12-24\"\n",
    "    elif (telcom[\"tenure\"] > 24) & (telcom[\"tenure\"] <= 48) :\n",
    "        return \"Tenure_24-48\"\n",
    "    elif (telcom[\"tenure\"] > 48) & (telcom[\"tenure\"] <= 60) :\n",
    "        return \"Tenure_48-60\"\n",
    "    elif telcom[\"tenure\"] > 60 :\n",
    "        return \"Tenure_gt_60\"\n",
    "telcom['tenure_group'] = telcom.apply(lambda telcom:tenure_lab(telcom),axis=1)"
   ]
  },
  {
   "cell_type": "markdown",
   "id": "f88dbb44",
   "metadata": {},
   "source": [
    "**Separating churn and non churn customers**"
   ]
  },
  {
   "cell_type": "code",
   "execution_count": null,
   "id": "d68ee7a8",
   "metadata": {},
   "outputs": [],
   "source": [
    "churn = telcom[telcom['Churn']=='Yes']\n",
    "not_churn = telcom[telcom['Churn']=='No']"
   ]
  },
  {
   "cell_type": "markdown",
   "id": "61a1ac41",
   "metadata": {},
   "source": [
    "**Separating catagorical and numerical columns**"
   ]
  },
  {
   "cell_type": "code",
   "execution_count": null,
   "id": "990d9b65",
   "metadata": {
    "scrolled": true
   },
   "outputs": [],
   "source": [
    "telcom.dtypes"
   ]
  },
  {
   "cell_type": "code",
   "execution_count": null,
   "id": "4276dc56",
   "metadata": {},
   "outputs": [],
   "source": [
    "cat_cols   = telcom.nunique()[telcom.nunique() < 6].keys().tolist()\n",
    "cat_cols"
   ]
  },
  {
   "cell_type": "code",
   "execution_count": null,
   "id": "6bd93b49",
   "metadata": {},
   "outputs": [],
   "source": [
    "Id_col     = ['customerID']\n",
    "target_col = [\"Churn\"]\n",
    "cat_cols   = telcom.nunique()[telcom.nunique() < 6].keys().tolist()\n",
    "cat_cols   = [x for x in cat_cols if x not in target_col]\n",
    "num_cols   = [x for x in telcom.columns if x not in cat_cols + target_col + Id_col]"
   ]
  },
  {
   "cell_type": "code",
   "execution_count": null,
   "id": "ada2d88b",
   "metadata": {},
   "outputs": [],
   "source": [
    "cat_cols"
   ]
  },
  {
   "cell_type": "code",
   "execution_count": null,
   "id": "8c25ea8c",
   "metadata": {},
   "outputs": [],
   "source": [
    "num_cols"
   ]
  },
  {
   "cell_type": "markdown",
   "id": "8d1ff9f7",
   "metadata": {},
   "source": [
    "# Exploratory Data Analysis"
   ]
  },
  {
   "cell_type": "markdown",
   "id": "f6b5fd66",
   "metadata": {},
   "source": [
    "**Customer attrition in data**"
   ]
  },
  {
   "cell_type": "code",
   "execution_count": null,
   "id": "0c451213",
   "metadata": {},
   "outputs": [],
   "source": [
    "#labels\n",
    "lab = telcom[\"Churn\"].value_counts().keys().tolist()\n",
    "#values\n",
    "val = telcom[\"Churn\"].value_counts().values.tolist()\n",
    "trace = go.Pie(labels = lab ,\n",
    "               values = val ,\n",
    "               marker = dict(colors =  [ 'royalblue' ,'lime'],\n",
    "                             line = dict(color = \"white\",\n",
    "                                         width =  1.3)\n",
    "                            ),\n",
    "               hoverinfo = \"label+value+text\",\n",
    "               rotation = 90,\n",
    "               hole = .3\n",
    "              )\n",
    "layout = go.Layout(dict(title = \"Customer attrition in data\",\n",
    "                        plot_bgcolor  = \"rgb(243,243,243)\",\n",
    "                        paper_bgcolor = \"rgb(243,243,243)\",\n",
    "                       )\n",
    "                  )\n",
    "\n",
    "data = [trace]\n",
    "fig = go.Figure(data = data,layout = layout)\n",
    "py.iplot(fig)"
   ]
  },
  {
   "cell_type": "markdown",
   "id": "d31516de",
   "metadata": {},
   "source": [
    "**Varibles distribution in customer attrition**"
   ]
  },
  {
   "cell_type": "code",
   "execution_count": null,
   "id": "f13db901",
   "metadata": {},
   "outputs": [],
   "source": [
    "#function  for pie plot for customer attrition types\n",
    "def plot_pie(column):\n",
    "    trace1 = go.Pie(values  = churn[column].value_counts().values.tolist(),\n",
    "                    labels  = churn[column].value_counts().keys().tolist(),\n",
    "                    hoverinfo = \"label+percent+name\",\n",
    "                    domain  = dict(x = [0,.48]),\n",
    "                    name    = \"Churn Customers\",\n",
    "                    marker  = dict(line = dict(width = 2,\n",
    "                                               color = \"rgb(243,243,243)\")\n",
    "                                  ),\n",
    "                    hole    = .6\n",
    "                   )\n",
    "    trace2 = go.Pie(values  = not_churn[column].value_counts().values.tolist(),\n",
    "                    labels  = not_churn[column].value_counts().keys().tolist(),\n",
    "                    hoverinfo = \"label+percent+name\",\n",
    "                    marker  = dict(line = dict(width = 2,\n",
    "                                               color = \"rgb(243,243,243)\")\n",
    "                                  ),\n",
    "                    domain  = dict(x = [.52,1]),\n",
    "                    hole    = .6,\n",
    "                    name    = \"Non churn customers\" \n",
    "                   )\n",
    "    layout = go.Layout(dict(title = column + \" distribution in customer attrition \",\n",
    "                            plot_bgcolor  = \"rgb(243,243,243)\",\n",
    "                            paper_bgcolor = \"rgb(243,243,243)\",\n",
    "                            annotations = [dict(text = \"churn customers\",\n",
    "                                                font = dict(size = 13),\n",
    "                                                showarrow = False,\n",
    "                                                x = .15, y = .5),\n",
    "                                           dict(text = \"Non churn customers\",\n",
    "                                                font = dict(size = 13),\n",
    "                                                showarrow = False,\n",
    "                                                x = .88,y = .5\n",
    "                                               )\n",
    "                                          ]\n",
    "                           )\n",
    "                      )\n",
    "    data = [trace1,trace2]\n",
    "    fig  = go.Figure(data = data,layout = layout)\n",
    "    py.iplot(fig)"
   ]
  },
  {
   "cell_type": "code",
   "execution_count": null,
   "id": "503d4d7c",
   "metadata": {},
   "outputs": [],
   "source": [
    "#function  for histogram for customer attrition types\n",
    "def histogram(column) :\n",
    "    trace1 = go.Histogram(x  = churn[column],\n",
    "                          histnorm= \"percent\",\n",
    "                          name = \"Churn Customers\",\n",
    "                          marker = dict(line = dict(width = .5,\n",
    "                                                    color = \"black\"\n",
    "                                                    )\n",
    "                                        ),\n",
    "                         opacity = .9 \n",
    "                         ) \n",
    "    \n",
    "    trace2 = go.Histogram(x  = not_churn[column],\n",
    "                          histnorm = \"percent\",\n",
    "                          name = \"Non churn customers\",\n",
    "                          marker = dict(line = dict(width = .5,\n",
    "                                              color = \"black\"\n",
    "                                             )\n",
    "                                 ),\n",
    "                          opacity = .9\n",
    "                         )\n",
    "    \n",
    "    data = [trace1,trace2]\n",
    "    layout = go.Layout(dict(title =column + \" distribution in customer attrition \",\n",
    "                            plot_bgcolor  = \"rgb(243,243,243)\",\n",
    "                            paper_bgcolor = \"rgb(243,243,243)\",\n",
    "                            xaxis = dict(gridcolor = 'rgb(255, 255, 255)',\n",
    "                                             title = column,\n",
    "                                             zerolinewidth=1,\n",
    "                                             ticklen=5,\n",
    "                                             gridwidth=2\n",
    "                                            ),\n",
    "                            yaxis = dict(gridcolor = 'rgb(255, 255, 255)',\n",
    "                                             title = \"percent\",\n",
    "                                             zerolinewidth=1,\n",
    "                                             ticklen=5,\n",
    "                                             gridwidth=2\n",
    "                                            ),\n",
    "                           )\n",
    "                      )\n",
    "    fig  = go.Figure(data=data,layout=layout)\n",
    "    \n",
    "    py.iplot(fig)"
   ]
  },
  {
   "cell_type": "code",
   "execution_count": null,
   "id": "0c3d768c",
   "metadata": {
    "scrolled": true
   },
   "outputs": [],
   "source": [
    "#for all categorical columns plot pie\n",
    "for i in cat_cols :\n",
    "    plot_pie(i)\n",
    "\n",
    "#for all categorical columns plot histogram    \n",
    "for i in num_cols :\n",
    "    histogram(i)"
   ]
  },
  {
   "cell_type": "code",
   "execution_count": null,
   "id": "26e643ae",
   "metadata": {},
   "outputs": [],
   "source": [
    "#Function for scatter plot matrix for numerical columns in data\n",
    "def scatter_matrix(df)  :\n",
    "    \n",
    "    df  = df.sort_values(by = \"Churn\" ,ascending = True)\n",
    "    classes = df[\"Churn\"].unique().tolist()\n",
    "    classes\n",
    "    \n",
    "    class_code  = {classes[k] : k for k in range(2)}\n",
    "    class_code\n",
    "\n",
    "    color_vals = [class_code[cl] for cl in df[\"Churn\"]]\n",
    "    color_vals\n",
    "\n",
    "    pl_colorscale = \"Portland\"\n",
    "\n",
    "    pl_colorscale\n",
    "\n",
    "    text = [df.loc[k,\"Churn\"] for k in range(len(df))]\n",
    "    text\n",
    "\n",
    "    trace = go.Splom(dimensions = [dict(label  = \"tenure\",\n",
    "                                       values = df[\"tenure\"]),\n",
    "                                  dict(label  = 'MonthlyCharges',\n",
    "                                       values = df['MonthlyCharges']),\n",
    "                                  dict(label  = 'TotalCharges',\n",
    "                                       values = df['TotalCharges'])],\n",
    "                     text = text,\n",
    "                     marker = dict(color = color_vals,\n",
    "                                   colorscale = pl_colorscale,\n",
    "                                   size = 3,\n",
    "                                   showscale = False,\n",
    "                                   line = dict(width = .1,\n",
    "                                               color='rgb(230,230,230)'\n",
    "                                              )\n",
    "                                  )\n",
    "                    )\n",
    "    axis = dict(showline  = True,\n",
    "                zeroline  = False,\n",
    "                gridcolor = \"#fff\",\n",
    "                ticklen   = 4\n",
    "               )\n",
    "    \n",
    "    layout = go.Layout(dict(title  = \n",
    "                            \"Scatter plot matrix for Numerical columns for customer attrition\",\n",
    "                            autosize = False,\n",
    "                            height = 800,\n",
    "                            width  = 800,\n",
    "                            dragmode = \"select\",\n",
    "                            hovermode = \"closest\",\n",
    "                            plot_bgcolor  = 'rgba(240,240,240, 0.95)',\n",
    "                            xaxis1 = dict(axis),\n",
    "                            yaxis1 = dict(axis),\n",
    "                            xaxis2 = dict(axis),\n",
    "                            yaxis2 = dict(axis),\n",
    "                            xaxis3 = dict(axis),\n",
    "                            yaxis3 = dict(axis),\n",
    "                           )\n",
    "                      )\n",
    "    data   = [trace]\n",
    "    fig = go.Figure(data = data,layout = layout )\n",
    "    py.iplot(fig)\n",
    "#scatter plot matrix\n",
    "scatter_matrix(telcom)"
   ]
  },
  {
   "cell_type": "markdown",
   "id": "01c7a711",
   "metadata": {},
   "source": [
    "**Customer attrition in tenure groups**"
   ]
  },
  {
   "cell_type": "code",
   "execution_count": null,
   "id": "d6a29d93",
   "metadata": {},
   "outputs": [],
   "source": [
    "#cusomer attrition in tenure groups\n",
    "tg_ch  =  churn[\"tenure_group\"].value_counts().reset_index()\n",
    "tg_ch.columns  = [\"tenure_group\",\"count\"]\n",
    "tg_nch =  not_churn[\"tenure_group\"].value_counts().reset_index()\n",
    "tg_nch.columns = [\"tenure_group\",\"count\"]\n",
    "\n",
    "#bar - churn\n",
    "trace1 = go.Bar(x = tg_ch[\"tenure_group\"]  , y = tg_ch[\"count\"],\n",
    "                name = \"Churn Customers\",\n",
    "                marker = dict(line = dict(width = .5,color = \"black\")),\n",
    "                opacity = .9)\n",
    "\n",
    "#bar - not churn\n",
    "trace2 = go.Bar(x = tg_nch[\"tenure_group\"] , y = tg_nch[\"count\"],\n",
    "                name = \"Non Churn Customers\",\n",
    "                marker = dict(line = dict(width = .5,color = \"black\")),\n",
    "                opacity = .9)\n",
    "\n",
    "layout = go.Layout(dict(title = \"Customer attrition in tenure groups\",\n",
    "                        plot_bgcolor  = \"rgb(243,243,243)\",\n",
    "                        paper_bgcolor = \"rgb(243,243,243)\",\n",
    "                        xaxis = dict(gridcolor = 'rgb(255, 255, 255)',\n",
    "                                     title = \"tenure group\",\n",
    "                                     zerolinewidth=1,ticklen=5,gridwidth=2),\n",
    "                        yaxis = dict(gridcolor = 'rgb(255, 255, 255)',\n",
    "                                     title = \"count\",\n",
    "                                     zerolinewidth=1,ticklen=5,gridwidth=2),\n",
    "                       )\n",
    "                  )\n",
    "data = [trace1,trace2]\n",
    "fig  = go.Figure(data=data,layout=layout)\n",
    "py.iplot(fig)"
   ]
  },
  {
   "cell_type": "markdown",
   "id": "da8f78ef",
   "metadata": {},
   "source": [
    "**Monthly Charges and Total Charges by Tenure and Churn groups**"
   ]
  },
  {
   "cell_type": "code",
   "execution_count": null,
   "id": "823fb45e",
   "metadata": {},
   "outputs": [],
   "source": [
    "telcom[['MonthlyCharges', 'TotalCharges','tenure',\"tenure_group\"]]\n",
    "\n",
    "#scatter plot monthly charges & total charges by tenure group\n",
    "\n",
    "def plot_tenure_scatter(tenure_group,color) :\n",
    "    tracer = go.Scatter(x = telcom[telcom[\"tenure_group\"] == tenure_group][\"MonthlyCharges\"],\n",
    "                        y = telcom[telcom[\"tenure_group\"] == tenure_group][\"TotalCharges\"],\n",
    "                        mode = \"markers\",marker = dict(line = dict(color = \"black\",\n",
    "                                                                   width = .2),\n",
    "                                                       size = 4 , color = color,\n",
    "                                                       symbol = \"diamond-dot\",\n",
    "                                                      ),\n",
    "                        name = tenure_group,\n",
    "                        opacity = .9\n",
    "                       )\n",
    "    return tracer\n",
    "\n",
    "#scatter plot monthly charges & total charges by churn group\n",
    "def plot_churncharges_scatter(churn,color) :\n",
    "    tracer = go.Scatter(x = telcom[telcom[\"Churn\"] == churn][\"MonthlyCharges\"],\n",
    "                        y = telcom[telcom[\"Churn\"] == churn][\"TotalCharges\"],\n",
    "                        mode = \"markers\",marker = dict(line = dict(color = \"black\",\n",
    "                                                                   width = .2),\n",
    "                                                       size = 4 , color = color,\n",
    "                                                       symbol = \"diamond-dot\",\n",
    "                                                      ),\n",
    "                        name = \"Churn - \" + churn,\n",
    "                        opacity = .9\n",
    "                       )\n",
    "    return tracer\n",
    "\n",
    "trace1 = plot_tenure_scatter(\"Tenure_0-12\",\"#FF3300\")\n",
    "trace2 = plot_tenure_scatter(\"Tenure_12-24\",\"#6666FF\")\n",
    "trace3 = plot_tenure_scatter(\"Tenure_24-48\",\"#99FF00\")\n",
    "trace4 = plot_tenure_scatter(\"Tenure_48-60\",\"#996600\")\n",
    "trace5 = plot_tenure_scatter(\"Tenure_gt_60\",\"grey\")\n",
    "trace6 = plot_churncharges_scatter(\"Yes\",\"red\")\n",
    "trace7 = plot_churncharges_scatter(\"No\",\"blue\")\n",
    "data1   = [trace1,trace2,trace3,trace4,trace5] \n",
    "data2   = [trace7,trace6]\n",
    "\n",
    "def layout_title(title) :\n",
    "    layout = go.Layout(dict(title = title,\n",
    "                            plot_bgcolor  = \"rgb(243,243,243)\",\n",
    "                            paper_bgcolor = \"rgb(243,243,243)\",\n",
    "                            xaxis = dict(gridcolor = 'rgb(255, 255, 255)',\n",
    "                                         title = \"Monthly charges\",\n",
    "                                         zerolinewidth=1,ticklen=5,gridwidth=2),\n",
    "                            yaxis = dict(gridcolor = 'rgb(255, 255, 255)',\n",
    "                                         title = \"Total Charges\",\n",
    "                                         zerolinewidth=1,ticklen=5,gridwidth=2),\n",
    "                            height = 600\n",
    "                           )\n",
    "                      )\n",
    "    return layout\n",
    "\n",
    "layout1  = layout_title(\"Monthly Charges & Total Charges by Tenure group\")\n",
    "layout2  = layout_title(\"Monthly Charges & Total Charges by Churn group\")\n",
    "\n",
    "fig1 = go.Figure(data = data1,layout = layout1)\n",
    "fig2 = go.Figure(data = data2,layout = layout2)\n",
    "\n",
    "py.iplot(fig1)\n",
    "py.iplot(fig2)"
   ]
  },
  {
   "cell_type": "code",
   "execution_count": null,
   "id": "c31721a6",
   "metadata": {},
   "outputs": [],
   "source": [
    "avg_tgc = telcom.groupby([\"tenure_group\",\"Churn\"])[[\"MonthlyCharges\",\"TotalCharges\"]].mean().reset_index()\n",
    "\n",
    "#function for tracing \n",
    "def mean_charges(column,aggregate) :\n",
    "    tracer = go.Bar(x = avg_tgc[avg_tgc[\"Churn\"] == aggregate][\"tenure_group\"],\n",
    "                    y = avg_tgc[avg_tgc[\"Churn\"] == aggregate][column],\n",
    "                    name = aggregate,marker = dict(line = dict(width = 1)),\n",
    "                    text = \"Churn\"\n",
    "                   )\n",
    "    return tracer\n",
    "\n",
    "#function for layout\n",
    "def layout_plot(title,xaxis_lab,yaxis_lab) :\n",
    "    layout = go.Layout(dict(title = title,\n",
    "                            plot_bgcolor  = \"rgb(243,243,243)\",\n",
    "                            paper_bgcolor = \"rgb(243,243,243)\",\n",
    "                            xaxis = dict(gridcolor = 'rgb(255, 255, 255)',title = xaxis_lab,\n",
    "                                         zerolinewidth=1,ticklen=5,gridwidth=2),\n",
    "                            yaxis = dict(gridcolor = 'rgb(255, 255, 255)',title = yaxis_lab,\n",
    "                                         zerolinewidth=1,ticklen=5,gridwidth=2),\n",
    "                           )\n",
    "                      )\n",
    "    return layout"
   ]
  },
  {
   "cell_type": "markdown",
   "id": "c7ffaf16",
   "metadata": {},
   "source": [
    "**plot1 - mean monthly charges by tenure groups**"
   ]
  },
  {
   "cell_type": "code",
   "execution_count": null,
   "id": "baaca0e3",
   "metadata": {},
   "outputs": [],
   "source": [
    "trace1  = mean_charges(\"MonthlyCharges\",\"Yes\")\n",
    "trace2  = mean_charges(\"MonthlyCharges\",\"No\")\n",
    "layout1 = layout_plot(\"Average Monthly Charges by Tenure groups\",\n",
    "                      \"Tenure group\",\"Monthly Charges\")\n",
    "data1   = [trace1,trace2]\n",
    "fig1    = go.Figure(data=data1,layout=layout1)"
   ]
  },
  {
   "cell_type": "markdown",
   "id": "b7e999d5",
   "metadata": {},
   "source": [
    "**plot2 - mean total charges by tenure groups**"
   ]
  },
  {
   "cell_type": "code",
   "execution_count": null,
   "id": "f0bba1d8",
   "metadata": {},
   "outputs": [],
   "source": [
    "trace3  = mean_charges(\"TotalCharges\",\"Yes\")\n",
    "trace4  = mean_charges(\"TotalCharges\",\"No\")\n",
    "layout2 = layout_plot(\"Average Total Charges by Tenure groups\",\n",
    "                      \"Tenure group\",\"Total Charges\")\n",
    "data2   = [trace3,trace4]\n",
    "fig2    = go.Figure(data=data2,layout=layout2)"
   ]
  },
  {
   "cell_type": "code",
   "execution_count": null,
   "id": "390e0506",
   "metadata": {},
   "outputs": [],
   "source": [
    "py.iplot(fig1)\n",
    "py.iplot(fig2)"
   ]
  },
  {
   "cell_type": "markdown",
   "id": "f49d51d7",
   "metadata": {},
   "source": [
    "**Monthly charges,total charges and tenure in customer attrition**"
   ]
  },
  {
   "cell_type": "code",
   "execution_count": null,
   "id": "ecfec8ad",
   "metadata": {},
   "outputs": [],
   "source": [
    "##copy data\n",
    "tel_df = telcom.copy()\n",
    "#Drop tenure column\n",
    "telcom = telcom.drop(columns = \"tenure_group\",axis = 1)\n",
    "\n",
    "trace1 = go.Scatter3d(x = churn[\"MonthlyCharges\"],\n",
    "                      y = churn[\"TotalCharges\"],\n",
    "                      z = churn[\"tenure\"],\n",
    "                      mode = \"markers\",\n",
    "                      name = \"Churn customers\",\n",
    "                      text = \"Id : \" + churn[\"customerID\"],\n",
    "                      marker = dict(size = 1,color = \"red\")\n",
    "                     )\n",
    "trace2 = go.Scatter3d(x = not_churn[\"MonthlyCharges\"],\n",
    "                      y = not_churn[\"TotalCharges\"],\n",
    "                      z = not_churn[\"tenure\"],\n",
    "                      name = \"Non churn customers\",\n",
    "                      text = \"Id : \" + not_churn[\"customerID\"],\n",
    "                      mode = \"markers\",\n",
    "                      marker = dict(size = 1,color= \"green\")\n",
    "                     )\n",
    "\n",
    "layout = go.Layout(dict(title = \"Monthly charges,total charges & tenure in customer attrition\",\n",
    "                        scene = dict(camera = dict(up=dict(x= 0 , y=0, z=0),\n",
    "                                                   center=dict(x=0, y=0, z=0),\n",
    "                                                   eye=dict(x=1.25, y=1.25, z=1.25)),\n",
    "                                     xaxis  = dict(title = \"monthly charges\",\n",
    "                                                   gridcolor='rgb(255, 255, 255)',\n",
    "                                                   zerolinecolor='rgb(255, 255, 255)',\n",
    "                                                   showbackground=True,\n",
    "                                                   backgroundcolor='rgb(230, 230,230)'),\n",
    "                                     yaxis  = dict(title = \"total charges\",\n",
    "                                                   gridcolor='rgb(255, 255, 255)',\n",
    "                                                   zerolinecolor='rgb(255, 255, 255)',\n",
    "                                                   showbackground=True,\n",
    "                                                   backgroundcolor='rgb(230, 230,230)'\n",
    "                                                  ),\n",
    "                                     zaxis  = dict(title = \"tenure\",\n",
    "                                                   gridcolor='rgb(255, 255, 255)',\n",
    "                                                   zerolinecolor='rgb(255, 255, 255)',\n",
    "                                                   showbackground=True,\n",
    "                                                   backgroundcolor='rgb(230, 230,230)'\n",
    "                                                  )\n",
    "                                    ),\n",
    "                        height = 700,\n",
    "                       )\n",
    "                  )\n",
    "                  \n",
    "\n",
    "data = [trace1,trace2]\n",
    "fig  = go.Figure(data = data,layout = layout)\n",
    "py.iplot(fig)"
   ]
  },
  {
   "cell_type": "markdown",
   "id": "00617a98",
   "metadata": {},
   "source": [
    "# Data preprocessing"
   ]
  },
  {
   "cell_type": "code",
   "execution_count": null,
   "id": "fc31e89a",
   "metadata": {},
   "outputs": [],
   "source": [
    "from sklearn.preprocessing import LabelEncoder\n",
    "from sklearn.preprocessing import StandardScaler\n",
    "\n",
    "#customer id col\n",
    "Id_col     = ['customerID']\n",
    "\n",
    "#Target columns\n",
    "target_col = [\"Churn\"]\n",
    "\n",
    "#categorical columns\n",
    "cat_cols   = telcom.nunique()[telcom.nunique() < 6].keys().tolist()\n",
    "cat_cols   = [x for x in cat_cols if x not in target_col]\n",
    "\n",
    "#numerical columns\n",
    "num_cols   = [x for x in telcom.columns if x not in cat_cols + target_col + Id_col]\n",
    "\n",
    "#Binary columns with 2 values\n",
    "bin_cols   = telcom.nunique()[telcom.nunique() == 2].keys().tolist()\n",
    "\n",
    "#Columns more than 2 values\n",
    "multi_cols = [i for i in cat_cols if i not in bin_cols]"
   ]
  },
  {
   "cell_type": "code",
   "execution_count": null,
   "id": "f4219b7d",
   "metadata": {},
   "outputs": [],
   "source": [
    "num_cols"
   ]
  },
  {
   "cell_type": "code",
   "execution_count": null,
   "id": "422cc6c6",
   "metadata": {},
   "outputs": [],
   "source": [
    "bin_cols"
   ]
  },
  {
   "cell_type": "code",
   "execution_count": null,
   "id": "35662faf",
   "metadata": {},
   "outputs": [],
   "source": [
    "multi_cols"
   ]
  },
  {
   "cell_type": "markdown",
   "id": "db39aecb",
   "metadata": {},
   "source": [
    "**Label encoding Binary columns**"
   ]
  },
  {
   "cell_type": "code",
   "execution_count": null,
   "id": "88d95ce9",
   "metadata": {},
   "outputs": [],
   "source": [
    "le = LabelEncoder()\n",
    "for i in bin_cols :\n",
    "    telcom[i] = le.fit_transform(telcom[i])"
   ]
  },
  {
   "cell_type": "code",
   "execution_count": null,
   "id": "681d99ea",
   "metadata": {},
   "outputs": [],
   "source": [
    "telcom"
   ]
  },
  {
   "cell_type": "markdown",
   "id": "3a611ce6",
   "metadata": {},
   "source": [
    "**Duplicating columns for multi value columns**"
   ]
  },
  {
   "cell_type": "code",
   "execution_count": null,
   "id": "0a759b99",
   "metadata": {},
   "outputs": [],
   "source": [
    "telcom = pd.get_dummies(data = telcom,columns = multi_cols )"
   ]
  },
  {
   "cell_type": "markdown",
   "id": "99508bf2",
   "metadata": {},
   "source": [
    "**Scaling Numerical columns**"
   ]
  },
  {
   "cell_type": "code",
   "execution_count": null,
   "id": "57ba3ba3",
   "metadata": {},
   "outputs": [],
   "source": [
    "num_cols"
   ]
  },
  {
   "cell_type": "code",
   "execution_count": null,
   "id": "907ea8fc",
   "metadata": {},
   "outputs": [],
   "source": [
    "std = StandardScaler()\n",
    "scaled = std.fit_transform(telcom[num_cols])\n",
    "scaled = pd.DataFrame(scaled,columns=num_cols)"
   ]
  },
  {
   "cell_type": "code",
   "execution_count": null,
   "id": "3e472c12",
   "metadata": {
    "scrolled": true
   },
   "outputs": [],
   "source": [
    "scaled"
   ]
  },
  {
   "cell_type": "markdown",
   "id": "a452a6e2",
   "metadata": {},
   "source": [
    "**Dropping original values merging scaled values for numerical columns**"
   ]
  },
  {
   "cell_type": "code",
   "execution_count": null,
   "id": "a87ea2d9",
   "metadata": {},
   "outputs": [],
   "source": [
    "df_telcom_og = telcom.copy()\n",
    "telcom = telcom.drop(columns = num_cols,axis = 1)\n",
    "telcom = telcom.merge(scaled,left_index=True,right_index=True,how = \"left\")"
   ]
  },
  {
   "cell_type": "code",
   "execution_count": null,
   "id": "e7a7ff87",
   "metadata": {},
   "outputs": [],
   "source": [
    "telcom"
   ]
  },
  {
   "cell_type": "markdown",
   "id": "42dad0d6",
   "metadata": {},
   "source": [
    "# Variable Summary"
   ]
  },
  {
   "cell_type": "code",
   "execution_count": null,
   "id": "fb8bb686",
   "metadata": {},
   "outputs": [],
   "source": [
    "summary = (df_telcom_og[[i for i in df_telcom_og.columns if i not in Id_col]].describe().transpose().reset_index())\n",
    "summary = summary.rename(columns = {\"index\" : \"feature\"})\n",
    "summary = np.around(summary,3)\n",
    "val_lst = [summary['feature'], summary['count'],\n",
    "           summary['mean'],summary['std'],\n",
    "           summary['min'], summary['25%'],\n",
    "           summary['50%'], summary['75%'], summary['max']]\n",
    "trace  = go.Table(header = dict(values = summary.columns.tolist(),\n",
    "                                line = dict(color = ['#506784']),\n",
    "                                fill = dict(color = ['#119DFF']),\n",
    "                               ),\n",
    "                  cells  = dict(values = val_lst,\n",
    "                                line = dict(color = ['#506784']),\n",
    "                                fill = dict(color = [\"lightgrey\",'#F5F8FF'])\n",
    "                               ),\n",
    "                  columnwidth = [200,60,100,100,60,60,80,80,80])\n",
    "layout = go.Layout(dict(title = \"Variable Summary\"))\n",
    "figure = go.Figure(data=[trace],layout=layout)\n",
    "py.iplot(figure)"
   ]
  },
  {
   "cell_type": "markdown",
   "id": "724fe3b7",
   "metadata": {},
   "source": [
    "# Correlation Matrix"
   ]
  },
  {
   "cell_type": "code",
   "execution_count": null,
   "id": "d17b431a",
   "metadata": {
    "scrolled": true
   },
   "outputs": [],
   "source": [
    "#correlation\n",
    "correlation = telcom.corr()\n",
    "#tick labels\n",
    "matrix_cols = correlation.columns.tolist()\n",
    "#convert to array\n",
    "corr_array  = np.array(correlation)\n",
    "#Plotting\n",
    "trace = go.Heatmap(z = corr_array,\n",
    "                   x = matrix_cols,\n",
    "                   y = matrix_cols,\n",
    "                   colorscale = \"Viridis\",\n",
    "                   colorbar   = dict(title = \"Pearson Correlation coefficient\",\n",
    "                                     titleside = \"right\"\n",
    "                                    ) ,\n",
    "                  )\n",
    "\n",
    "layout = go.Layout(dict(title = \"Correlation Matrix for variables\",\n",
    "                        autosize = False,\n",
    "                        height  = 720,\n",
    "                        width   = 800,\n",
    "                        margin  = dict(r = 0 ,l = 210,\n",
    "                                       t = 25,b = 210,\n",
    "                                      ),\n",
    "                        yaxis   = dict(tickfont = dict(size = 9)),\n",
    "                        xaxis   = dict(tickfont = dict(size = 9))\n",
    "                       )\n",
    "                  )\n",
    "\n",
    "data = [trace]\n",
    "fig = go.Figure(data=data,layout=layout)\n",
    "py.iplot(fig)"
   ]
  },
  {
   "cell_type": "markdown",
   "id": "58e64433",
   "metadata": {},
   "source": [
    "# Visualising data with principal components"
   ]
  },
  {
   "cell_type": "code",
   "execution_count": null,
   "id": "e5c21ec9",
   "metadata": {},
   "outputs": [],
   "source": [
    "from sklearn.decomposition import PCA\n",
    "\n",
    "pca = PCA(n_components = 2)\n",
    "\n",
    "X = telcom[[i for i in telcom.columns if i not in Id_col + target_col]]\n",
    "Y = telcom[target_col + Id_col]\n",
    "\n",
    "principal_components = pca.fit_transform(X)\n",
    "\n",
    "pca_data = pd.DataFrame(principal_components,columns = [\"PC1\",\"PC2\"])\n",
    "pca_data = pca_data.merge(Y,left_index=True,right_index=True,how=\"left\")\n",
    "pca_data[\"Churn\"] = pca_data[\"Churn\"].replace({1:\"Churn\",0:\"Not Churn\"})\n",
    "\n",
    "def pca_scatter(target,color) :\n",
    "    tracer = go.Scatter(x = pca_data[pca_data[\"Churn\"] == target][\"PC1\"] ,\n",
    "                        y = pca_data[pca_data[\"Churn\"] == target][\"PC2\"],\n",
    "                        name = target,mode = \"markers\",\n",
    "                        marker = dict(color = color,\n",
    "                                      line = dict(width = .5),\n",
    "                                      symbol =  \"diamond-open\"),\n",
    "                        text = (\"Customer Id : \" + \n",
    "                                pca_data[pca_data[\"Churn\"] == target]['customerID'])\n",
    "                       )\n",
    "    return tracer\n",
    "\n",
    "layout = go.Layout(dict(title = \"Visualising data with principal components\",\n",
    "                        plot_bgcolor  = \"rgb(243,243,243)\",\n",
    "                        paper_bgcolor = \"rgb(243,243,243)\",\n",
    "                        xaxis = dict(gridcolor = 'rgb(255, 255, 255)',\n",
    "                                     title = \"principal component 1\",\n",
    "                                     zerolinewidth=1,ticklen=5,gridwidth=2),\n",
    "                        yaxis = dict(gridcolor = 'rgb(255, 255, 255)',\n",
    "                                     title = \"principal component 2\",\n",
    "                                     zerolinewidth=1,ticklen=5,gridwidth=2),\n",
    "                        height = 600\n",
    "                       )\n",
    "                  )\n",
    "trace1 = pca_scatter(\"Churn\",'red')\n",
    "trace2 = pca_scatter(\"Not Churn\",'royalblue')\n",
    "data = [trace2,trace1]\n",
    "fig = go.Figure(data=data,layout=layout)\n",
    "py.iplot(fig)\n"
   ]
  },
  {
   "cell_type": "markdown",
   "id": "214c905b",
   "metadata": {},
   "source": [
    "# Binary variables distribution in customer attrition(Radar Chart)"
   ]
  },
  {
   "cell_type": "code",
   "execution_count": null,
   "id": "ef2ed96d",
   "metadata": {},
   "outputs": [],
   "source": [
    "#separating binary columns\n",
    "bi_cs = telcom.nunique()[telcom.nunique() == 2].keys()\n",
    "dat_rad = telcom[bi_cs]\n",
    "#plotting radar chart for churn and non churn customers(binary variables)\n",
    "def plot_radar(df,aggregate,title) :\n",
    "    data_frame = df[df[\"Churn\"] == aggregate] \n",
    "    data_frame_x = data_frame[bi_cs].sum().reset_index()\n",
    "    data_frame_x.columns  = [\"feature\",\"yes\"]\n",
    "    data_frame_x[\"no\"]    = data_frame.shape[0]  - data_frame_x[\"yes\"]\n",
    "    data_frame_x  = data_frame_x[data_frame_x[\"feature\"] != \"Churn\"]\n",
    "    print(data_frame_x)\n",
    "    #count of 1's(yes)\n",
    "    trace1 = go.Scatterpolar(r = data_frame_x[\"yes\"].values.tolist(),\n",
    "                             theta = data_frame_x[\"feature\"].tolist(),\n",
    "                             fill  = \"toself\",name = \"count of 1's\",\n",
    "                             mode = \"markers+lines\",\n",
    "                             marker = dict(size = 5)\n",
    "                            )\n",
    "    #count of 0's(No)\n",
    "    trace2 = go.Scatterpolar(r = data_frame_x[\"no\"].values.tolist(),\n",
    "                             theta = data_frame_x[\"feature\"].tolist(),\n",
    "                             fill  = \"toself\",name = \"count of 0's\",\n",
    "                             mode = \"markers+lines\",\n",
    "                             marker = dict(size = 5)\n",
    "                            ) \n",
    "    layout = go.Layout(dict(polar = dict(radialaxis = dict(visible = True,\n",
    "                                                           side = \"counterclockwise\",\n",
    "                                                           showline = True,\n",
    "                                                           linewidth = 2,\n",
    "                                                           tickwidth = 2,\n",
    "                                                           gridcolor = \"white\",\n",
    "                                                           gridwidth = 2),\n",
    "                                         angularaxis = dict(tickfont = dict(size = 10),\n",
    "                                                            layer = \"below traces\"\n",
    "                                                           ),\n",
    "                                         bgcolor  = \"rgb(243,243,243)\",\n",
    "                                        ),\n",
    "                            paper_bgcolor = \"rgb(243,243,243)\",\n",
    "                            title = title,height = 700))\n",
    "    \n",
    "    data = [trace2,trace1]\n",
    "    fig = go.Figure(data=data,layout=layout)\n",
    "    py.iplot(fig)\n",
    "#plot\n",
    "plot_radar(dat_rad,1,\"Churn -  Customers\")\n",
    "plot_radar(dat_rad,0,\"Non Churn - Customers\")"
   ]
  },
  {
   "cell_type": "markdown",
   "id": "6bc8be3a",
   "metadata": {},
   "source": [
    "# Model Building"
   ]
  },
  {
   "cell_type": "markdown",
   "id": "06f9e519",
   "metadata": {},
   "source": [
    "**Baseline Model**"
   ]
  },
  {
   "cell_type": "code",
   "execution_count": null,
   "id": "ce413258",
   "metadata": {},
   "outputs": [],
   "source": [
    "telcom"
   ]
  },
  {
   "cell_type": "code",
   "execution_count": null,
   "id": "6fab4ffd",
   "metadata": {},
   "outputs": [],
   "source": [
    "from sklearn.model_selection import train_test_split\n",
    "from sklearn.linear_model import LogisticRegression\n",
    "from sklearn.metrics import confusion_matrix,accuracy_score,classification_report\n",
    "from sklearn.metrics import roc_auc_score,roc_curve\n",
    "from sklearn.metrics import f1_score\n",
    "import statsmodels.api as sm\n",
    "from sklearn.metrics import precision_score,recall_score\n",
    "from yellowbrick.classifier import DiscriminationThreshold"
   ]
  },
  {
   "cell_type": "code",
   "execution_count": null,
   "id": "622819e8",
   "metadata": {},
   "outputs": [],
   "source": [
    "#splitting train and test data \n",
    "train,test = train_test_split(telcom,test_size = .25 ,random_state = 111)"
   ]
  },
  {
   "cell_type": "code",
   "execution_count": null,
   "id": "17fbfb34",
   "metadata": {},
   "outputs": [],
   "source": [
    "#seperating dependent and independent variables\n",
    "cols = [i for i in telcom.columns if i not in Id_col + target_col]\n",
    "train_X = train[cols]\n",
    "train_Y = train[target_col]\n",
    "test_X = train[cols]\n",
    "test_Y = train[target_col]"
   ]
  },
  {
   "cell_type": "code",
   "execution_count": null,
   "id": "88f7f88b",
   "metadata": {},
   "outputs": [],
   "source": [
    "#Function attributes\n",
    "#dataframe     - processed dataframe\n",
    "#Algorithm     - Algorithm used \n",
    "#training_x    - predictor variables dataframe(training)\n",
    "#testing_x     - predictor variables dataframe(testing)\n",
    "#training_y    - target variable(training)\n",
    "#training_y    - target variable(testing)\n",
    "#cf - [\"coefficients\",\"features\"](cooefficients for logistic \n",
    "                                 #regression,features for tree based models)\n",
    "\n",
    "#threshold_plot - if True returns threshold plot for model\n",
    "\n",
    "def telecom_churn_prediction(algorithm,training_x,testing_x,\n",
    "                             training_y,testing_y,cols,cf,threshold_plot):\n",
    "    #Model\n",
    "    algorithm.fit(training_x,training_y)\n",
    "    predictions = algorithm.predict(testing_x)\n",
    "    #global probabilities\n",
    "    probabilities = algorithm.predict_proba(testing_x)\n",
    "    \n",
    "    #coeffs\n",
    "    if cf == 'coefficients':\n",
    "        coefficients = pd.DataFrame(algorithm.coef_.ravel())\n",
    "    elif cf == 'features':\n",
    "        coefficients = pd.DataFrame(algorithm.feature_importances_)\n",
    "        \n",
    "    column_df     = pd.DataFrame(cols)\n",
    "    coef_sumry    = (pd.merge(coefficients,column_df,left_index= True,\n",
    "                              right_index= True, how = \"left\"))\n",
    "    coef_sumry.columns = [\"coefficients\",\"features\"]\n",
    "    coef_sumry    = coef_sumry.sort_values(by = \"coefficients\",ascending = False)\n",
    "    print (algorithm)\n",
    "    \n",
    "    print (\"\\n Classification report : \\n\",classification_report(testing_y,predictions))\n",
    "    print (\"Accuracy   Score : \",accuracy_score(testing_y,predictions))\n",
    "    #confusion matrix\n",
    "    conf_matrix = confusion_matrix(testing_y,predictions)\n",
    "    #roc_auc_score\n",
    "    model_roc_auc = roc_auc_score(testing_y,predictions)\n",
    "    print (\"Area under curve : \",model_roc_auc,\"\\n\")\n",
    "    fpr,tpr,thresholds = roc_curve(testing_y,probabilities[:,1])\n",
    "\n",
    "    #plot confusion matrix\n",
    "    trace1 = go.Heatmap(z = conf_matrix ,\n",
    "                        x = [\"Not churn\",\"Churn\"],\n",
    "                        y = [\"Not churn\",\"Churn\"],\n",
    "                        showscale  = False,colorscale = \"Picnic\",\n",
    "                        name = \"matrix\")\n",
    "    \n",
    "    #plot roc curve\n",
    "    trace2 = go.Scatter(x = fpr,y = tpr,\n",
    "                        name = \"Roc : \" + str(model_roc_auc),\n",
    "                        line = dict(color = ('rgb(22, 96, 167)'),width = 2))\n",
    "    trace3 = go.Scatter(x = [0,1],y=[0,1],\n",
    "                        line = dict(color = ('rgb(205, 12, 24)'),width = 2,\n",
    "                        dash = 'dot'))\n",
    "    \n",
    "    #plot coeffs\n",
    "    trace4 = go.Bar(x = coef_sumry[\"features\"],y = coef_sumry[\"coefficients\"],\n",
    "                    name = \"coefficients\",\n",
    "                    marker = dict(color = coef_sumry[\"coefficients\"],\n",
    "                                  colorscale = \"Picnic\",\n",
    "                                  line = dict(width = .6,color = \"black\")))\n",
    "    \n",
    "    #subplots\n",
    "    fig = tls.make_subplots(rows=2, cols=2, specs=[[{}, {}], [{'colspan': 2}, None]],\n",
    "                            subplot_titles=('Confusion Matrix',\n",
    "                                            'Receiver operating characteristic',\n",
    "                                            'Feature Importances'))\n",
    "    \n",
    "    fig.append_trace(trace1,1,1)\n",
    "    fig.append_trace(trace2,1,2)\n",
    "    fig.append_trace(trace3,1,2)\n",
    "    fig.append_trace(trace4,2,1)\n",
    "    \n",
    "    fig['layout'].update(showlegend=False, title=\"Model performance\" ,\n",
    "                         autosize = False,height = 900,width = 800,\n",
    "                         plot_bgcolor = 'rgba(240,240,240, 0.95)',\n",
    "                         paper_bgcolor = 'rgba(240,240,240, 0.95)',\n",
    "                         margin = dict(b = 195))\n",
    "    fig[\"layout\"][\"xaxis2\"].update(dict(title = \"false positive rate\"))\n",
    "    fig[\"layout\"][\"yaxis2\"].update(dict(title = \"true positive rate\"))\n",
    "    fig[\"layout\"][\"xaxis3\"].update(dict(showgrid = True,tickfont = dict(size = 10),\n",
    "                                        tickangle = 90))\n",
    "    py.iplot(fig)\n",
    "    if threshold_plot == True : \n",
    "        visualizer = DiscriminationThreshold(algorithm)\n",
    "        visualizer.fit(training_x,training_y)\n",
    "        visualizer.poof()\n",
    "        \n",
    "logit  = LogisticRegression(C=1.0, class_weight=None, dual=False, fit_intercept=True,\n",
    "          intercept_scaling=1, max_iter=100, multi_class='ovr', n_jobs=1,\n",
    "          penalty='l2', random_state=None, solver='liblinear', tol=0.0001,\n",
    "          verbose=0, warm_start=False)\n",
    "\n",
    "telecom_churn_prediction(logit,train_X,test_X,train_Y,test_Y,\n",
    "                         cols,\"coefficients\",threshold_plot = True)"
   ]
  },
  {
   "cell_type": "markdown",
   "id": "58147f47",
   "metadata": {},
   "source": [
    "# Synthetic Minority Oversampling TEchnique (SMOTE)\n",
    "- Randomly pick a point from the minority class.\n",
    "- Compute the k-nearest neighbors (for some pre-specified k) for this point.\n",
    "- Add k new points somewhere between the chosen point and each of its neighbors"
   ]
  },
  {
   "cell_type": "markdown",
   "id": "f512b68d",
   "metadata": {},
   "source": [
    "- SMOTE is an oversampling technique where the synthetic samples are generated for the minority class. This algorithm helps to overcome the overfitting problem posed by random oversampling. It focuses on the feature space to generate new instances with the help of interpolation between the positive instances that lie together."
   ]
  },
  {
   "cell_type": "code",
   "execution_count": null,
   "id": "aea62b75",
   "metadata": {},
   "outputs": [],
   "source": [
    "from imblearn.over_sampling import SMOTE\n",
    "cols = [i for i in telcom.columns if i not in Id_col+target_col]\n",
    "\n",
    "smote_X = telcom[cols]\n",
    "smote_Y = telcom[target_col]\n",
    "\n",
    "#Split train and test data\n",
    "smote_train_X,smote_test_X,smote_train_Y,smote_test_Y = train_test_split(smote_X,smote_Y, test_size = .25,random_state = 111)\n",
    "\n",
    "#oversampling minority class using smote\n",
    "os = SMOTE(random_state = 0)\n",
    "os_smote_X,os_smote_Y = os.fit_resample(smote_train_X,smote_train_Y)\n",
    "os_smote_X = pd.DataFrame(data = os_smote_X,columns=cols)\n",
    "os_smote_Y = pd.DataFrame(data = os_smote_Y,columns=target_col)\n",
    "\n",
    "logit_smote = LogisticRegression(C=1.0, class_weight=None, dual=False, fit_intercept=True,\n",
    "          intercept_scaling=1, max_iter=100, multi_class='ovr', n_jobs=1,\n",
    "          penalty='l2', random_state=None, solver='liblinear', tol=0.0001,\n",
    "          verbose=0, warm_start=False)\n",
    "\n",
    "telecom_churn_prediction(logit_smote,os_smote_X,test_X,os_smote_Y,test_Y,\n",
    "                         cols,\"coefficients\",threshold_plot = True)"
   ]
  },
  {
   "cell_type": "markdown",
   "id": "826ad6fb",
   "metadata": {},
   "source": [
    "# Recursive Feature Elimination\n",
    "- Recursive Feature Elimination (RFE) is based on the idea to repeatedly construct a model and choose either the best or worst performing feature, setting the feature aside and then repeating the process with the rest of the features.\n",
    "- This process is applied until all features in the dataset are exhausted. \n",
    "- The goal of RFE is to select features by recursively considering smaller and smaller sets of features."
   ]
  },
  {
   "cell_type": "markdown",
   "id": "bb005814",
   "metadata": {},
   "source": [
    "- Recursive Feature Elimination, or RFE for short, is a popular feature selection algorithm.\n",
    "- RFE is popular because it is easy to configure and use and because it is effective at selecting those features (columns) in a training dataset that are more or most relevant in predicting the target variable.\n",
    "- There are two important configuration options when using RFE: the choice in the number of features to select and the choice of the algorithm used to help choose features."
   ]
  },
  {
   "cell_type": "code",
   "execution_count": null,
   "id": "bd6e9c94",
   "metadata": {},
   "outputs": [],
   "source": [
    "from sklearn.feature_selection import RFE\n",
    "logit = LogisticRegression()\n",
    "rfe = RFE(logit,step=10)\n",
    "rfe = rfe.fit(os_smote_X,os_smote_Y.values.ravel())\n",
    "rfe.support_"
   ]
  },
  {
   "cell_type": "code",
   "execution_count": null,
   "id": "f89dcee1",
   "metadata": {},
   "outputs": [],
   "source": [
    "rfe.ranking_"
   ]
  },
  {
   "cell_type": "code",
   "execution_count": null,
   "id": "760b7520",
   "metadata": {
    "scrolled": true
   },
   "outputs": [],
   "source": [
    "#identified columns Recursive Feature Elimination\n",
    "idc_rfe = pd.DataFrame({\"rfe_support\" :rfe.support_,\n",
    "                       \"columns\" : [i for i in telcom.columns if i not in Id_col + target_col],\n",
    "                       \"ranking\" : rfe.ranking_,\n",
    "                      })\n",
    "idc_rfe"
   ]
  },
  {
   "cell_type": "code",
   "execution_count": null,
   "id": "ccec82fc",
   "metadata": {},
   "outputs": [],
   "source": [
    "cols = idc_rfe[idc_rfe[\"rfe_support\"] == True][\"columns\"].tolist()\n",
    "cols"
   ]
  },
  {
   "cell_type": "code",
   "execution_count": null,
   "id": "cbd89cd9",
   "metadata": {},
   "outputs": [],
   "source": [
    "#separating train and test data\n",
    "train_rf_X = os_smote_X[cols]\n",
    "train_rf_Y = os_smote_Y\n",
    "test_rf_X  = test[cols]\n",
    "test_rf_Y  = test[target_col]\n",
    "\n",
    "logit_rfe = LogisticRegression(C=1.0, class_weight=None, dual=False, fit_intercept=True,\n",
    "          intercept_scaling=1, max_iter=100, multi_class='ovr', n_jobs=1,\n",
    "          penalty='l2', random_state=None, solver='liblinear', tol=0.0001,\n",
    "          verbose=0, warm_start=False)\n",
    "#applying model\n",
    "telecom_churn_prediction(logit_rfe,train_rf_X,test_rf_X,train_rf_Y,test_rf_Y,\n",
    "                         cols,\"coefficients\",threshold_plot = True)\n",
    "\n",
    "tab_rk = ff.create_table(idc_rfe)\n",
    "py.iplot(tab_rk)"
   ]
  },
  {
   "cell_type": "markdown",
   "id": "53f62f1a",
   "metadata": {},
   "source": [
    "# Univariate Selection\n",
    "- Feature Extraction with Univariate Statistical Tests (Chi-squared for classification)\n",
    "- uses the chi squared (chi^2) statistical test for non-negative features to select the best features"
   ]
  },
  {
   "cell_type": "code",
   "execution_count": null,
   "id": "6ab9d92c",
   "metadata": {},
   "outputs": [],
   "source": [
    "from sklearn.feature_selection import chi2\n",
    "from sklearn.feature_selection import SelectKBest\n",
    "\n",
    "#select columns\n",
    "cols = [i for i in telcom.columns if i not in Id_col + target_col ]\n",
    "\n",
    "#dataframe with non negative values\n",
    "df_x = df_telcom_og[cols]\n",
    "df_y = df_telcom_og[target_col]\n",
    "\n",
    "#fit model with k= 3\n",
    "select = SelectKBest(score_func = chi2,k = 3)\n",
    "fit    = select.fit(df_x,df_y)\n",
    "\n",
    "#Summerize scores\n",
    "print (\"scores\")\n",
    "print (fit.scores_)\n",
    "print (\"P - Values\")\n",
    "print (fit.pvalues_)\n",
    "\n",
    "#create dataframe\n",
    "score = pd.DataFrame({\"features\":cols,\"scores\":fit.scores_,\"p_values\":fit.pvalues_ })\n",
    "score = score.sort_values(by = \"scores\" ,ascending =False)\n",
    "#createing new label for categorical and numerical columns\n",
    "score[\"feature_type\"] = np.where(score[\"features\"].isin(num_cols),\"Numerical\",\"Categorical\")\n",
    "\n",
    "#plot\n",
    "trace  = go.Scatter(x = score[score[\"feature_type\"] == \"Categorical\"][\"features\"],\n",
    "                    y = score[score[\"feature_type\"] == \"Categorical\"][\"scores\"],\n",
    "                    name = \"Categorial\",mode = \"lines+markers\",\n",
    "                    marker = dict(color = \"red\",\n",
    "                                  line = dict(width =1))\n",
    "                   )\n",
    "\n",
    "trace1 = go.Bar(x = score[score[\"feature_type\"] == \"Numerical\"][\"features\"],\n",
    "                y = score[score[\"feature_type\"] == \"Numerical\"][\"scores\"],name = \"Numerical\",\n",
    "                marker = dict(color = \"royalblue\",\n",
    "                              line = dict(width =1)),\n",
    "                xaxis = \"x2\",yaxis = \"y2\"\n",
    "               )\n",
    "\n",
    "layout = go.Layout(dict(title = \"Scores for Categorical & Numerical features\",\n",
    "                        plot_bgcolor  = \"rgb(243,243,243)\",\n",
    "                        paper_bgcolor = \"rgb(243,243,243)\",\n",
    "                        xaxis = dict(gridcolor = 'rgb(255, 255, 255)',\n",
    "                                     tickfont = dict(size =10),\n",
    "                                     domain=[0, 0.7],\n",
    "                                     tickangle = 90,zerolinewidth=1,\n",
    "                                     ticklen=5,gridwidth=2),\n",
    "                        yaxis = dict(gridcolor = 'rgb(255, 255, 255)',\n",
    "                                     title = \"scores\",\n",
    "                                     zerolinewidth=1,ticklen=5,gridwidth=2),\n",
    "                        margin = dict(b=200),\n",
    "                        xaxis2=dict(domain=[0.8, 1],tickangle = 90,\n",
    "                                    gridcolor = 'rgb(255, 255, 255)'),\n",
    "                        yaxis2=dict(anchor='x2',gridcolor = 'rgb(255, 255, 255)')\n",
    "                        )\n",
    "                  )\n",
    "\n",
    "data=[trace,trace1]\n",
    "fig = go.Figure(data=data,layout=layout)\n",
    "py.iplot(fig)"
   ]
  },
  {
   "cell_type": "markdown",
   "id": "9a9a23d1",
   "metadata": {},
   "source": [
    "# Decision Tree Visualization\n",
    "- Using top three numerical features"
   ]
  },
  {
   "cell_type": "code",
   "execution_count": null,
   "id": "b668ed39",
   "metadata": {},
   "outputs": [],
   "source": [
    "from matplotlib import pyplot as plt\n",
    "from sklearn.tree import DecisionTreeClassifier\n",
    "#from sklearn.tree import export_graphviz\n",
    "from sklearn import tree\n",
    "#from graphviz import Source\n",
    "from IPython.display import SVG,display\n",
    "\n",
    "\n",
    "#top 3 categorical features\n",
    "features_cat  = score[score[\"feature_type\"] == \"Categorical\"][\"features\"][:3].tolist()\n",
    "#top 3 numerical features\n",
    "features_num  = score[score[\"feature_type\"] == \"Numerical\"][\"features\"][:3].tolist()\n",
    "\n",
    "#Function attributes\n",
    "#columns        - selected columns\n",
    "#maximum_depth  - depth of tree\n",
    "#criterion_type - [\"gini\" or \"entropy\"]\n",
    "#split_type     - [\"best\" or \"random\"]\n",
    "#Model Performance - True (gives model output)\n",
    "def plot_decision_tree(columns,maximum_depth,criterion_type,split_type,model_performance = None):\n",
    "    #separating dependent and in dependent variables\n",
    "    dtc_x = df_x[columns]\n",
    "    dtc_y = df_y[target_col]\n",
    "    \n",
    "    #model\n",
    "    dt_classifier = DecisionTreeClassifier(max_depth = maximum_depth,\n",
    "                                           splitter  = split_type,\n",
    "                                           criterion = criterion_type,\n",
    "                                          )\n",
    "    dt_classifier.fit(dtc_x,dtc_y)\n",
    "    \n",
    "    #plot decision tree\n",
    "    fig = plt.figure(figsize=(15,15),dpi=300)\n",
    "    graph = tree.plot_tree(dt_classifier, \n",
    "                   feature_names=columns,  \n",
    "                   class_names=[\"Not churn\",\"Churn\"],\n",
    "                   filled=True,\n",
    "                   rounded=True,proportion = False,precision  = 2)\n",
    "    #display(graph) \n",
    "    fig.savefig(\"decistion_tree.png\")\n",
    "    plt.show()\n",
    "    \n",
    "    #model performance\n",
    "    if model_performance == True :\n",
    "        telecom_churn_prediction(dt_classifier,\n",
    "                                 dtc_x,test_X[columns],\n",
    "                                 dtc_y,test_Y,\n",
    "                                 columns,\"features\",threshold_plot = True)\n",
    "plot_decision_tree(features_num,3,\"gini\",\"best\")"
   ]
  },
  {
   "cell_type": "code",
   "execution_count": null,
   "id": "0c446ac2",
   "metadata": {},
   "outputs": [],
   "source": [
    "plot_decision_tree(features_cat,3,\"entropy\",\"best\",\n",
    "                   model_performance = True ,)"
   ]
  },
  {
   "cell_type": "code",
   "execution_count": null,
   "id": "0128260c",
   "metadata": {},
   "outputs": [],
   "source": [
    "#using contract,tenure and paperless billing variables\n",
    "columns = ['tenure','Contract_Month-to-month', 'PaperlessBilling',\n",
    "           'Contract_One year', 'Contract_Two year']\n",
    "\n",
    "plot_decision_tree(columns,3,\"gini\",\"best\",model_performance= True)"
   ]
  },
  {
   "cell_type": "markdown",
   "id": "0d70fa38",
   "metadata": {},
   "source": [
    "# KNN Classifier\n",
    "- Applying knn algorithm to smote oversampled data."
   ]
  },
  {
   "cell_type": "code",
   "execution_count": null,
   "id": "4a5705a6",
   "metadata": {},
   "outputs": [],
   "source": [
    "def telecom_churn_prediction_alg(algorithm,training_x,testing_x,\n",
    "                                 training_y,testing_y,threshold_plot = True) :\n",
    "    \n",
    "    #model\n",
    "    algorithm.fit(training_x,training_y)\n",
    "    predictions   = algorithm.predict(testing_x)\n",
    "    probabilities = algorithm.predict_proba(testing_x)\n",
    "    \n",
    "    print (algorithm)\n",
    "    print (\"\\n Classification report : \\n\",classification_report(testing_y,predictions))\n",
    "    print (\"Accuracy Score   : \",accuracy_score(testing_y,predictions))\n",
    "    #confusion matrix\n",
    "    conf_matrix = confusion_matrix(testing_y,predictions)\n",
    "    #roc_auc_score\n",
    "    model_roc_auc = roc_auc_score(testing_y,predictions) \n",
    "    print (\"Area under curve : \",model_roc_auc)\n",
    "    fpr,tpr,thresholds = roc_curve(testing_y,probabilities[:,1])\n",
    "     \n",
    "    #plot roc curve\n",
    "    trace1 = go.Scatter(x = fpr,y = tpr,\n",
    "                        name = \"Roc : \" + str(model_roc_auc),\n",
    "                        line = dict(color = ('rgb(22, 96, 167)'),width = 2),\n",
    "                       )\n",
    "    trace2 = go.Scatter(x = [0,1],y=[0,1],\n",
    "                        line = dict(color = ('rgb(205, 12, 24)'),width = 2,\n",
    "                        dash = 'dot'))\n",
    "    \n",
    "    #plot confusion matrix\n",
    "    trace3 = go.Heatmap(z = conf_matrix ,x = [\"Not churn\",\"Churn\"],\n",
    "                        y = [\"Not churn\",\"Churn\"],\n",
    "                        showscale  = False,colorscale = \"Blues\",name = \"matrix\",\n",
    "                        xaxis = \"x2\",yaxis = \"y2\"\n",
    "                       )\n",
    "    \n",
    "    layout = go.Layout(dict(title=\"Model performance\" ,\n",
    "                            autosize = False,height = 500,width = 800,\n",
    "                            showlegend = False,\n",
    "                            plot_bgcolor  = \"rgb(243,243,243)\",\n",
    "                            paper_bgcolor = \"rgb(243,243,243)\",\n",
    "                            xaxis = dict(title = \"false positive rate\",\n",
    "                                         gridcolor = 'rgb(255, 255, 255)',\n",
    "                                         domain=[0, 0.6],\n",
    "                                         ticklen=5,gridwidth=2),\n",
    "                            yaxis = dict(title = \"true positive rate\",\n",
    "                                         gridcolor = 'rgb(255, 255, 255)',\n",
    "                                         zerolinewidth=1,\n",
    "                                         ticklen=5,gridwidth=2),\n",
    "                            margin = dict(b=200),\n",
    "                            xaxis2=dict(domain=[0.7, 1],tickangle = 90,\n",
    "                                        gridcolor = 'rgb(255, 255, 255)'),\n",
    "                            yaxis2=dict(anchor='x2',gridcolor = 'rgb(255, 255, 255)')\n",
    "                           )\n",
    "                  )\n",
    "    data = [trace1,trace2,trace3]\n",
    "    fig = go.Figure(data=data,layout=layout)\n",
    "    \n",
    "    py.iplot(fig)\n",
    "    \n",
    "    if threshold_plot == True : \n",
    "        visualizer = DiscriminationThreshold(algorithm)\n",
    "        visualizer.fit(training_x,training_y)\n",
    "        visualizer.poof()\n",
    "\n",
    "from sklearn.neighbors import KNeighborsClassifier\n",
    "knn = KNeighborsClassifier(algorithm='auto', leaf_size=30, metric='minkowski',\n",
    "           metric_params=None, n_jobs=1, n_neighbors=5, p=2,\n",
    "           weights='uniform')\n",
    "telecom_churn_prediction_alg(knn,os_smote_X,test_X,\n",
    "                             os_smote_Y,test_Y,threshold_plot = True)"
   ]
  },
  {
   "cell_type": "code",
   "execution_count": null,
   "id": "cb69ccb8",
   "metadata": {},
   "outputs": [],
   "source": [
    "from sklearn.ensemble import RandomForestClassifier\n",
    "\n",
    "#function attributes\n",
    "#columns  - column used\n",
    "#nf_estimators   - The number of trees in the forest.\n",
    "#estimated_tree  - tree number to be displayed\n",
    "#maximum_depth   - depth of the tree\n",
    "#criterion_type  - split criterion type [\"gini\" or \"entropy\"]\n",
    "#Model performance - prints performance of model\n",
    "\n",
    "def plot_tree_randomforest(columns,nf_estimators,\n",
    "                           estimated_tree,maximum_depth,\n",
    "                           criterion_type,model_performance = None) :\n",
    "    \n",
    "    dataframe = df_telcom_og[columns + target_col].copy()\n",
    "    \n",
    "    #train and test datasets\n",
    "    rf_x     = dataframe[[i for i in columns if i not in target_col]]\n",
    "    rf_y     = dataframe[target_col]\n",
    "    \n",
    "    #random forest classifier\n",
    "    rfc   = RandomForestClassifier(n_estimators = nf_estimators,\n",
    "                                   max_depth = maximum_depth,\n",
    "                                   criterion = criterion_type,\n",
    "                                  )\n",
    "    rfc.fit(rf_x,rf_y)\n",
    "    \n",
    "    estimated_tree = rfc.estimators_[estimated_tree]\n",
    "    \n",
    "    #plot decision tree\n",
    "    fig = plt.figure(figsize=(85,85))\n",
    "    graph = tree.plot_tree(estimated_tree, \n",
    "                   feature_names=columns,  \n",
    "                   class_names=[\"Not churn\",\"Churn\"],\n",
    "                   filled=True,\n",
    "                   rounded=True,proportion = False,precision  = 2)\n",
    "    #display(graph) \n",
    "    fig.savefig(\"decistion_tree.png\")\n",
    "    plt.show()\n",
    "    \n",
    "    #model performance\n",
    "    if model_performance == True :\n",
    "        telecom_churn_prediction(rfc,\n",
    "                                 rf_x,test_X[columns],\n",
    "                                 rf_y,test_Y,\n",
    "                                 columns,\"features\",threshold_plot = True)\n",
    "        \n",
    "\n",
    "cols1 = [ i for i in train_X.columns if i not in target_col + Id_col] \n",
    "plot_tree_randomforest(cols1,100,99,3,\"entropy\",True)"
   ]
  },
  {
   "cell_type": "markdown",
   "id": "78cb7667",
   "metadata": {},
   "source": [
    "# A random forest classifier.\n",
    "- A random forest is a meta estimator that fits a number of decision tree classifiers on various sub-samples of the dataset and use averaging to improve the predictive accuracy and control over-fitting. The sub-sample size is always the same as the original input sample size but the samples are drawn with replacement .\n",
    "- Below are the trees produced by random forest model with 10 estimated trees with maximum depth of three for each tree. Each tree produced is slightly different from other."
   ]
  },
  {
   "cell_type": "code",
   "execution_count": null,
   "id": "039c2911",
   "metadata": {},
   "outputs": [],
   "source": [
    "#making 10 trees with random forest.\n",
    "n = np.arange(0,10).tolist()\n",
    "cols1 = [ i for i in train_X.columns if i not in target_col + Id_col] \n",
    "for i in n :\n",
    "    plot_tree_randomforest(cols1,10,i,3,\"entropy\",model_performance=False)"
   ]
  },
  {
   "cell_type": "code",
   "execution_count": null,
   "id": "ca84922d",
   "metadata": {},
   "outputs": [],
   "source": [
    "n = np.arange(0,10).tolist()\n",
    "cols = idc_rfe[idc_rfe[\"rfe_support\"] == True][\"columns\"].tolist() \n",
    "for i in n :\n",
    "    plot_tree_randomforest(cols,10,i,3,\"gini\",model_performance=False)"
   ]
  },
  {
   "cell_type": "markdown",
   "id": "e416797b",
   "metadata": {},
   "source": [
    "# Gaussian Naive Bayes"
   ]
  },
  {
   "cell_type": "code",
   "execution_count": null,
   "id": "50bcd362",
   "metadata": {},
   "outputs": [],
   "source": [
    "from sklearn.naive_bayes import GaussianNB\n",
    "gnb = GaussianNB(priors=None)\n",
    "\n",
    "telecom_churn_prediction_alg(gnb,os_smote_X,test_X,os_smote_Y,test_Y)"
   ]
  },
  {
   "cell_type": "markdown",
   "id": "2834c88c",
   "metadata": {},
   "source": [
    "# Support Vector Machine\n",
    "- SVM is a supervised machine learning algorithm which can be used for both classification or regression challenges. \n",
    "- It is mostly used in classification problems. \n",
    "- In this algorithm, we plot each data item as a point in n-dimensional space (where n is number of features you have) with the value of each feature being the value of a particular coordinate.\n",
    "- Then, we perform classification by finding the hyper-plane that differentiate the two classes"
   ]
  },
  {
   "cell_type": "code",
   "execution_count": null,
   "id": "07478331",
   "metadata": {},
   "outputs": [],
   "source": [
    "from sklearn.svm import SVC\n",
    "\n",
    "#Support vector classifier\n",
    "#using linear hyper plane\n",
    "svc_lin  = SVC(C=1.0, cache_size=200, class_weight=None, coef0=0.0,\n",
    "               decision_function_shape='ovr', degree=3, gamma=1.0, kernel='linear',\n",
    "               max_iter=-1, probability=True, random_state=None, shrinking=True,\n",
    "               tol=0.001, verbose=False)\n",
    "\n",
    "cols = [i for i in telcom.columns if i not in Id_col + target_col]\n",
    "telecom_churn_prediction(svc_lin,os_smote_X,test_X,os_smote_Y,test_Y,\n",
    "                         cols,\"coefficients\",threshold_plot = False)"
   ]
  },
  {
   "cell_type": "code",
   "execution_count": null,
   "id": "6fde0513",
   "metadata": {},
   "outputs": [],
   "source": [
    "#tuning parameters\n",
    "#Support vector classifier\n",
    "#using non-linear hyper plane(\"rbf\")\n",
    "\n",
    "svc_rbf  = SVC(C=1.0, kernel='rbf', \n",
    "               degree= 3, gamma=1.0, \n",
    "               coef0=0.0, shrinking=True,\n",
    "               probability=True,tol=0.001,\n",
    "               cache_size=200, class_weight=None,\n",
    "               verbose=False,max_iter= -1,\n",
    "               random_state=None)\n",
    "\n",
    "telecom_churn_prediction_alg(svc_rbf,os_smote_X,test_X,os_smote_Y,test_Y,threshold_plot = False)"
   ]
  },
  {
   "cell_type": "markdown",
   "id": "f055790f",
   "metadata": {},
   "source": [
    "# LightGBMClassifier\n",
    "- LightGBM is a fast, distributed, high performance gradient boosting framework based on decision tree algorithms, used for ranking, classification.\n",
    "- It is designed to be distributed and efficient with the following advantages:\n",
    "    - Faster training speed and higher efficiency.\n",
    "    - Lower memory usage.\n",
    "    - Better accuracy.\n",
    "    - Support of parallel and GPU learning.\n",
    "    - Capable of handling large-scale data.\n",
    "- LightGBM grows tree vertically while other tree based learning algorithms grow trees horizontally. \n",
    "- It means that LightGBM grows tree leaf-wise while other algorithms grow level-wise. \n",
    "- It will choose the leaf with max delta loss to grow.\n",
    "- When growing the same leaf, leaf-wise algorithm can reduce more loss than a level-wise algorithm.\n",
    "- XGBoost is a very fast and accurate ML algorithm. But now it's been challenged by LightGBM — which runs even faster with comparable model accuracy and more hyperparameters for users to tune"
   ]
  },
  {
   "cell_type": "code",
   "execution_count": null,
   "id": "96cbfb9a",
   "metadata": {},
   "outputs": [],
   "source": [
    "from lightgbm import LGBMClassifier\n",
    "\n",
    "lgbm_c = LGBMClassifier(boosting_type='gbdt', class_weight=None, colsample_bytree=1.0,\n",
    "                        learning_rate=0.5, max_depth=7, min_child_samples=20,\n",
    "                        min_child_weight=0.001, min_split_gain=0.0, n_estimators=100,\n",
    "                        n_jobs=-1, num_leaves=500, objective='binary', random_state=None,\n",
    "                        reg_alpha=0.0, reg_lambda=0.0, silent=True, subsample=1.0,\n",
    "                        subsample_for_bin=200000, subsample_freq=0)\n",
    "\n",
    "cols = [i for i in telcom.columns if i not in Id_col + target_col]\n",
    "telecom_churn_prediction(lgbm_c,os_smote_X,test_X,os_smote_Y,test_Y,\n",
    "                         cols,\"features\",threshold_plot = True)"
   ]
  },
  {
   "cell_type": "markdown",
   "id": "3133bfea",
   "metadata": {},
   "source": [
    "# XGBoost Classifier"
   ]
  },
  {
   "cell_type": "code",
   "execution_count": null,
   "id": "497b7d64",
   "metadata": {},
   "outputs": [],
   "source": [
    "from xgboost import XGBClassifier\n",
    "\n",
    "xgc = XGBClassifier(base_score=0.5, booster='gbtree', colsample_bylevel=1,\n",
    "                    colsample_bytree=1, gamma=0, learning_rate=0.9, max_delta_step=0,\n",
    "                    max_depth = 7, min_child_weight=1, missing=None, n_estimators=100,\n",
    "                    n_jobs=1, nthread=None, objective='binary:logistic', random_state=0,\n",
    "                    reg_alpha=0, reg_lambda=1, scale_pos_weight=1, seed=None,\n",
    "                    silent=True, subsample=1)\n",
    "\n",
    "\n",
    "telecom_churn_prediction(xgc,os_smote_X,test_X,os_smote_Y,test_Y,\n",
    "                         cols,\"features\",threshold_plot = True)"
   ]
  },
  {
   "cell_type": "markdown",
   "id": "a8623fa4",
   "metadata": {},
   "source": [
    "# Model Performances\n",
    "- model performance metrics"
   ]
  },
  {
   "cell_type": "code",
   "execution_count": null,
   "id": "c06602e8",
   "metadata": {},
   "outputs": [],
   "source": [
    "from sklearn.metrics import f1_score\n",
    "from sklearn.metrics import cohen_kappa_score\n",
    "\n",
    "#gives model report in dataframe\n",
    "def model_report(model,training_x,testing_x,training_y,testing_y,name):\n",
    "    model.fit(training_x,training_y)\n",
    "    predictions  = model.predict(testing_x)\n",
    "    accuracy     = accuracy_score(testing_y,predictions)\n",
    "    recallscore  = recall_score(testing_y,predictions)\n",
    "    precision    = precision_score(testing_y,predictions)\n",
    "    roc_auc      = roc_auc_score(testing_y,predictions)\n",
    "    f1score      = f1_score(testing_y,predictions) \n",
    "    kappa_metric = cohen_kappa_score(testing_y,predictions)\n",
    "    \n",
    "    df = pd.DataFrame({\"Model\"           : [name],\n",
    "                       \"Accuracy_score\"  : [accuracy],\n",
    "                       \"Recall_score\"    : [recallscore],\n",
    "                       \"Precision\"       : [precision],\n",
    "                       \"f1_score\"        : [f1score],\n",
    "                       \"Area_under_curve\": [roc_auc],\n",
    "                       \"Kappa_metric\"    : [kappa_metric],\n",
    "                      })\n",
    "    return df\n",
    "#outputs for every model\n",
    "model1 = model_report(logit,train_X,test_X,train_Y,test_Y,\n",
    "                      \"Logistic Regression(Baseline_model)\")\n",
    "model2 = model_report(logit_smote,os_smote_X,test_X,os_smote_Y,test_Y,\n",
    "                      \"Logistic Regression(SMOTE)\")\n",
    "model3 = model_report(logit_rfe,train_rf_X,test_rf_X,train_rf_Y,test_rf_Y,\n",
    "                      \"Logistic Regression(RFE)\")\n",
    "decision_tree = DecisionTreeClassifier(max_depth = 9,\n",
    "                                       random_state = 123,\n",
    "                                       splitter  = \"best\",\n",
    "                                       criterion = \"gini\",\n",
    "                                      )\n",
    "model4 = model_report(decision_tree,train_X,test_X,train_Y,test_Y,\n",
    "                      \"Decision Tree\")\n",
    "model5 = model_report(knn,os_smote_X,test_X,os_smote_Y,test_Y,\n",
    "                      \"KNN Classifier\")\n",
    "rfc = RandomForestClassifier(n_estimators = 1000,\n",
    "                             random_state = 123,\n",
    "                             max_depth = 9,\n",
    "                             criterion = \"gini\")\n",
    "model6 = model_report(rfc,train_X,test_X,train_Y,test_Y,\n",
    "                      \"Random Forest Classifier\")\n",
    "model7 = model_report(gnb,os_smote_X,test_X,os_smote_Y,test_Y,\n",
    "                      \"Naive Bayes\")\n",
    "model8 = model_report(svc_lin,os_smote_X,test_X,os_smote_Y,test_Y,\n",
    "                      \"SVM Classifier Linear\")\n",
    "model9 = model_report(svc_rbf,os_smote_X,test_X,os_smote_Y,test_Y,\n",
    "                      \"SVM Classifier RBF\")\n",
    "\n",
    "\n",
    "#concat all models\n",
    "model_performances = pd.concat([model1,model2,model3,\n",
    "                                model4,model5,model6,\n",
    "                                model7,model8,model9],axis = 0).reset_index()\n",
    "\n",
    "model_performances = model_performances.drop(columns = \"index\",axis =1)\n",
    "\n",
    "table  = ff.create_table(np.round(model_performances,4))\n",
    "\n",
    "py.iplot(table)"
   ]
  },
  {
   "cell_type": "markdown",
   "id": "5ecd6cfc",
   "metadata": {},
   "source": [
    "# Compare model metrics"
   ]
  },
  {
   "cell_type": "code",
   "execution_count": null,
   "id": "fa081362",
   "metadata": {},
   "outputs": [],
   "source": [
    "model_performances\n",
    "def output_tracer(metric,color) :\n",
    "    tracer = go.Bar(y = model_performances[\"Model\"] ,\n",
    "                    x = model_performances[metric],\n",
    "                    orientation = \"h\",name = metric ,\n",
    "                    marker = dict(line = dict(width =.7),\n",
    "                                  color = color)\n",
    "                   )\n",
    "    return tracer\n",
    "\n",
    "layout = go.Layout(dict(title = \"Model performances\",\n",
    "                        plot_bgcolor  = \"rgb(243,243,243)\",\n",
    "                        paper_bgcolor = \"rgb(243,243,243)\",\n",
    "                        xaxis = dict(gridcolor = 'rgb(255, 255, 255)',\n",
    "                                     title = \"metric\",\n",
    "                                     zerolinewidth=1,\n",
    "                                     ticklen=5,gridwidth=2),\n",
    "                        yaxis = dict(gridcolor = 'rgb(255, 255, 255)',\n",
    "                                     zerolinewidth=1,ticklen=5,gridwidth=2),\n",
    "                        margin = dict(l = 250),\n",
    "                        height = 780\n",
    "                       )\n",
    "                  )\n",
    "\n",
    "\n",
    "trace1  = output_tracer(\"Accuracy_score\",\"#6699FF\")\n",
    "trace2  = output_tracer('Recall_score',\"red\")\n",
    "trace3  = output_tracer('Precision',\"#33CC99\")\n",
    "trace4  = output_tracer('f1_score',\"lightgrey\")\n",
    "trace5  = output_tracer('Kappa_metric',\"#FFCC99\")\n",
    "\n",
    "data = [trace1,trace2,trace3,trace4,trace5]\n",
    "fig = go.Figure(data=data,layout=layout)\n",
    "py.iplot(fig)"
   ]
  },
  {
   "cell_type": "markdown",
   "id": "eb65bb31",
   "metadata": {},
   "source": [
    "# Confusion matrices for models"
   ]
  },
  {
   "cell_type": "code",
   "execution_count": null,
   "id": "2157cacc",
   "metadata": {},
   "outputs": [],
   "source": [
    "lst    = [logit,logit_smote,decision_tree,knn,rfc,\n",
    "          gnb,svc_lin,svc_rbf]\n",
    "\n",
    "length = len(lst)\n",
    "\n",
    "mods   = ['Logistic Regression(Baseline_model)','Logistic Regression(SMOTE)',\n",
    "          'Decision Tree','KNN Classifier','Random Forest Classifier',\"Naive Bayes\",\n",
    "          'SVM Classifier Linear','SVM Classifier RBF']\n",
    "\n",
    "fig = plt.figure(figsize=(13,15))\n",
    "fig.set_facecolor(\"#F3F3F3\")\n",
    "\n",
    "for i,j,k in itertools.zip_longest(lst,range(length),mods):\n",
    "    plt.subplot(4,3,j+1)\n",
    "    predictions = i.predict(test_X)\n",
    "    conf_matrix = confusion_matrix(predictions,test_Y)\n",
    "    sns.heatmap(conf_matrix,annot=True,fmt = \"d\",square = True,\n",
    "                xticklabels=[\"not churn\",\"churn\"],\n",
    "                yticklabels=[\"not churn\",\"churn\"],\n",
    "                linewidths = 2,linecolor = \"w\",cmap = \"Set1\")\n",
    "    plt.title(k,color = \"b\")\n",
    "    plt.subplots_adjust(wspace = .3,hspace = .3)"
   ]
  },
  {
   "cell_type": "markdown",
   "id": "8f912aad",
   "metadata": {},
   "source": [
    "# ROC - Curves for models"
   ]
  },
  {
   "cell_type": "code",
   "execution_count": null,
   "id": "5d8924ef",
   "metadata": {},
   "outputs": [],
   "source": [
    "lst    = [logit,logit_smote,decision_tree,knn,rfc,\n",
    "          gnb,svc_lin,svc_rbf]\n",
    "\n",
    "length = len(lst)\n",
    "\n",
    "mods   = ['Logistic Regression(Baseline_model)','Logistic Regression(SMOTE)',\n",
    "          'Decision Tree','KNN Classifier','Random Forest Classifier',\"Naive Bayes\",\n",
    "          'SVM Classifier Linear','SVM Classifier RBF']\n",
    "\n",
    "plt.style.use(\"dark_background\")\n",
    "fig = plt.figure(figsize=(12,16))\n",
    "fig.set_facecolor(\"#F3F3F3\")\n",
    "for i,j,k in itertools.zip_longest(lst,range(length),mods) :\n",
    "    qx = plt.subplot(4,3,j+1)\n",
    "    probabilities = i.predict_proba(test_X)\n",
    "    predictions   = i.predict(test_X)\n",
    "    fpr,tpr,thresholds = roc_curve(test_Y,probabilities[:,1])\n",
    "    plt.plot(fpr,tpr,linestyle = \"dotted\",\n",
    "             color = \"royalblue\",linewidth = 2,\n",
    "             label = \"AUC = \" + str(np.around(roc_auc_score(test_Y,predictions),3)))\n",
    "    plt.plot([0,1],[0,1],linestyle = \"dashed\",\n",
    "             color = \"orangered\",linewidth = 1.5)\n",
    "    plt.fill_between(fpr,tpr,alpha = .4)\n",
    "    plt.fill_between([0,1],[0,1],color = \"k\")\n",
    "    plt.legend(loc = \"lower right\",\n",
    "               prop = {\"size\" : 12})\n",
    "    qx.set_facecolor(\"k\")\n",
    "    plt.grid(True,alpha = .15)\n",
    "    plt.title(k,color = \"b\")\n",
    "    plt.xticks(np.arange(0,1,.3))\n",
    "    plt.yticks(np.arange(0,1,.3))"
   ]
  },
  {
   "cell_type": "markdown",
   "id": "f62c9604",
   "metadata": {},
   "source": [
    "# Precision recall curves"
   ]
  },
  {
   "cell_type": "code",
   "execution_count": null,
   "id": "84863082",
   "metadata": {},
   "outputs": [],
   "source": [
    "from sklearn.metrics import precision_recall_curve\n",
    "from sklearn.metrics import average_precision_score\n",
    "\n",
    "\n",
    "lst    = [logit,logit_smote,decision_tree,knn,rfc,\n",
    "          gnb,svc_lin,svc_rbf]\n",
    "\n",
    "length = len(lst)\n",
    "\n",
    "mods   = ['Logistic Regression(Baseline_model)','Logistic Regression(SMOTE)',\n",
    "          'Decision Tree','KNN Classifier','Random Forest Classifier',\"Naive Bayes\",\n",
    "          'SVM Classifier Linear','SVM Classifier RBF']\n",
    "\n",
    "fig = plt.figure(figsize=(13,17))\n",
    "fig.set_facecolor(\"#F3F3F3\")\n",
    "for i,j,k in itertools.zip_longest(lst,range(length),mods) :\n",
    "    \n",
    "    qx = plt.subplot(4,3,j+1)\n",
    "    probabilities = i.predict_proba(test_X)\n",
    "    predictions   = i.predict(test_X)\n",
    "    recall,precision,thresholds = precision_recall_curve(test_Y,probabilities[:,1])\n",
    "    plt.plot(recall,precision,linewidth = 1.5,\n",
    "             label = (\"avg_pcn : \" + \n",
    "                      str(np.around(average_precision_score(test_Y,predictions),3))))\n",
    "    plt.plot([0,1],[0,0],linestyle = \"dashed\")\n",
    "    plt.fill_between(recall,precision,alpha = .2)\n",
    "    plt.legend(loc = \"lower left\",\n",
    "               prop = {\"size\" : 10})\n",
    "    qx.set_facecolor(\"k\")\n",
    "    plt.grid(True,alpha = .15)\n",
    "    plt.title(k,color = \"b\")\n",
    "    plt.xlabel(\"recall\",fontsize =7)\n",
    "    plt.ylabel(\"precision\",fontsize =7)\n",
    "    plt.xlim([0.25,1])\n",
    "    plt.yticks(np.arange(0,1,.3))"
   ]
  },
  {
   "cell_type": "code",
   "execution_count": null,
   "id": "e2041b92",
   "metadata": {},
   "outputs": [],
   "source": []
  }
 ],
 "metadata": {
  "kernelspec": {
   "display_name": "Python 3 (ipykernel)",
   "language": "python",
   "name": "python3"
  },
  "language_info": {
   "codemirror_mode": {
    "name": "ipython",
    "version": 3
   },
   "file_extension": ".py",
   "mimetype": "text/x-python",
   "name": "python",
   "nbconvert_exporter": "python",
   "pygments_lexer": "ipython3",
   "version": "3.9.7"
  }
 },
 "nbformat": 4,
 "nbformat_minor": 5
}
